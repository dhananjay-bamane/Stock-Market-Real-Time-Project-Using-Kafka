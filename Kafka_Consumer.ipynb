{
 "cells": [
  {
   "cell_type": "code",
   "execution_count": 1,
   "id": "8eadb3a7",
   "metadata": {},
   "outputs": [],
   "source": [
    "from kafka import KafkaConsumer\n",
    "from json import loads\n",
    "import json"
   ]
  },
  {
   "cell_type": "code",
   "execution_count": 2,
   "id": "a844b6b3",
   "metadata": {},
   "outputs": [],
   "source": [
    "consumer = KafkaConsumer('stocks',\n",
    "                        bootstrap_servers= ['localhost:9092'],\n",
    "                        api_version= (0, 10, 1))"
   ]
  },
  {
   "cell_type": "code",
   "execution_count": 3,
   "id": "5523ed4c",
   "metadata": {},
   "outputs": [
    {
     "name": "stdout",
     "output_type": "stream",
     "text": [
      "b'{\"Index\": \"NYA\", \"Date\": \"1987-07-13\", \"Open\": 1831.160034, \"High\": 1831.160034, \"Low\": 1831.160034, \"Close\": 1831.160034, \"Adj Close\": 1831.160034, \"Volume\": 0.0, \"CloseUSD\": 1831.160034}'\n",
      "b'{\"Index\": \"J203.JO\", \"Date\": \"2013-10-15\", \"Open\": 43723.16016, \"High\": 44320.69141, \"Low\": 43723.16016, \"Close\": 44297.17188, \"Adj Close\": 44297.17188, \"Volume\": 0.0, \"CloseUSD\": 3100.8020316}'\n",
      "b'{\"Index\": \"NYA\", \"Date\": \"1986-09-17\", \"Open\": 1411.060059, \"High\": 1411.060059, \"Low\": 1411.060059, \"Close\": 1411.060059, \"Adj Close\": 1411.060059, \"Volume\": 0.0, \"CloseUSD\": 1411.060059}'\n",
      "b'{\"Index\": \"IXIC\", \"Date\": \"2011-01-14\", \"Open\": 2732.47998, \"High\": 2755.300049, \"Low\": 2729.620117, \"Close\": 2755.300049, \"Adj Close\": 2755.300049, \"Volume\": 2020210000.0, \"CloseUSD\": 2755.300049}'\n",
      "b'{\"Index\": \"N225\", \"Date\": \"1982-07-20\", \"Open\": 7212.5, \"High\": 7212.5, \"Low\": 7212.5, \"Close\": 7212.5, \"Adj Close\": 7212.5, \"Volume\": 0.0, \"CloseUSD\": 72.125}'\n",
      "b'{\"Index\": \"NYA\", \"Date\": \"2011-09-16\", \"Open\": 7199.120117, \"High\": 7385.120117, \"Low\": 7199.120117, \"Close\": 7348.180176, \"Adj Close\": 7348.180176, \"Volume\": 5248890000.0, \"CloseUSD\": 7348.180176}'\n",
      "b'{\"Index\": \"NYA\", \"Date\": \"1998-09-28\", \"Open\": 5477.509766, \"High\": 5477.509766, \"Low\": 5477.509766, \"Close\": 5477.509766, \"Adj Close\": 5477.509766, \"Volume\": 0.0, \"CloseUSD\": 5477.509766}'\n",
      "b'{\"Index\": \"IXIC\", \"Date\": \"1978-10-13\", \"Open\": 135.580002, \"High\": 135.580002, \"Low\": 135.580002, \"Close\": 135.580002, \"Adj Close\": 135.580002, \"Volume\": 0.0, \"CloseUSD\": 135.580002}'\n",
      "b'{\"Index\": \"GDAXI\", \"Date\": \"2016-07-15\", \"Open\": 10031.17969, \"High\": 10098.75, \"Low\": 9987.049805, \"Close\": 10066.90039, \"Adj Close\": 10066.90039, \"Volume\": 89992500.0, \"CloseUSD\": 12281.6184758}'\n",
      "b'{\"Index\": \"N225\", \"Date\": \"2016-04-20\", \"Open\": 17053.83008, \"High\": 17099.35938, \"Low\": 16870.73047, \"Close\": 16906.53906, \"Adj Close\": 16906.53906, \"Volume\": 143900000.0, \"CloseUSD\": 169.0653906}'\n",
      "b'{\"Index\": \"HSI\", \"Date\": \"1998-02-11\", \"Open\": 11101.7002, \"High\": 11189.79981, \"Low\": 10754.5, \"Close\": 10793.40039, \"Adj Close\": 10793.40039, \"Volume\": 0.0, \"CloseUSD\": 1403.1420507}'\n",
      "b'{\"Index\": \"NSEI\", \"Date\": \"2012-11-23\", \"Open\": 5635.450195, \"High\": 5637.75, \"Low\": 5593.549805, \"Close\": 5626.600098, \"Adj Close\": 5626.600098, \"Volume\": 0.0, \"CloseUSD\": 56.26600098}'\n",
      "b'{\"Index\": \"000001.SS\", \"Date\": \"2017-11-07\", \"Open\": 3389.471924, \"High\": 3415.147949, \"Low\": 3387.946045, \"Close\": 3413.574951, \"Adj Close\": 3413.574951, \"Volume\": 190600.0, \"CloseUSD\": 546.1719921600001}'\n",
      "b'{\"Index\": \"TWII\", \"Date\": \"2008-06-19\", \"Open\": 8075.259766, \"High\": 8107.200195, \"Low\": 8044.660156, \"Close\": 8047.740234, \"Adj Close\": 8047.709473, \"Volume\": 3587000.0, \"CloseUSD\": 321.90960936}'\n",
      "b'{\"Index\": \"IXIC\", \"Date\": \"1972-02-02\", \"Open\": 120.470001, \"High\": 120.470001, \"Low\": 120.470001, \"Close\": 120.470001, \"Adj Close\": 120.470001, \"Volume\": 0.0, \"CloseUSD\": 120.470001}'\n",
      "b'{\"Index\": \"IXIC\", \"Date\": \"1987-02-23\", \"Open\": 414.200012, \"High\": 417.299988, \"Low\": 413.100006, \"Close\": 415.200012, \"Adj Close\": 415.200012, \"Volume\": 140100000.0, \"CloseUSD\": 415.200012}'\n",
      "b'{\"Index\": \"IXIC\", \"Date\": \"2004-06-04\", \"Open\": 1982.650024, \"High\": 1995.5, \"Low\": 1978.040039, \"Close\": 1978.619995, \"Adj Close\": 1978.619995, \"Volume\": 1417600000.0, \"CloseUSD\": 1978.619995}'\n",
      "b'{\"Index\": \"GSPTSE\", \"Date\": \"2018-01-11\", \"Open\": 16276.2002, \"High\": 16301.40039, \"Low\": 16244.90039, \"Close\": 16286.90039, \"Adj Close\": 16286.90039, \"Volume\": 23116120000.0, \"CloseUSD\": 13518.1273237}'\n",
      "b'{\"Index\": \"IXIC\", \"Date\": \"2015-02-06\", \"Open\": 4768.839844, \"High\": 4787.180176, \"Low\": 4731.220215, \"Close\": 4744.399902, \"Adj Close\": 4744.399902, \"Volume\": 2034060000.0, \"CloseUSD\": 4744.399902}'\n",
      "b'{\"Index\": \"NYA\", \"Date\": \"1974-10-29\", \"Open\": 405.709991, \"High\": 405.709991, \"Low\": 405.709991, \"Close\": 405.709991, \"Adj Close\": 405.709991, \"Volume\": 0.0, \"CloseUSD\": 405.709991}'\n",
      "b'{\"Index\": \"IXIC\", \"Date\": \"1979-11-30\", \"Open\": 144.259995, \"High\": 144.259995, \"Low\": 144.259995, \"Close\": 144.259995, \"Adj Close\": 144.259995, \"Volume\": 0.0, \"CloseUSD\": 144.259995}'\n",
      "b'{\"Index\": \"399001.SZ\", \"Date\": \"2000-11-20\", \"Open\": 4951.990234, \"High\": 4962.609863, \"Low\": 4892.310059, \"Close\": 4960.990234, \"Adj Close\": 4960.93457, \"Volume\": 0.0, \"CloseUSD\": 793.75843744}'\n",
      "b'{\"Index\": \"IXIC\", \"Date\": \"2019-09-23\", \"Open\": 8106.490234, \"High\": 8135.810059, \"Low\": 8085.339844, \"Close\": 8112.459961, \"Adj Close\": 8112.459961, \"Volume\": 1780160000.0, \"CloseUSD\": 8112.459961}'\n",
      "b'{\"Index\": \"NYA\", \"Date\": \"1992-11-09\", \"Open\": 2438.620117, \"High\": 2438.620117, \"Low\": 2438.620117, \"Close\": 2438.620117, \"Adj Close\": 2438.620117, \"Volume\": 0.0, \"CloseUSD\": 2438.620117}'\n",
      "b'{\"Index\": \"HSI\", \"Date\": \"1993-05-28\", \"Open\": 7460.899902, \"High\": 7528.700195, \"Low\": 7391.200195, \"Close\": 7397.899902, \"Adj Close\": 7397.899902, \"Volume\": 0.0, \"CloseUSD\": 961.72698726}'\n",
      "b'{\"Index\": \"NYA\", \"Date\": \"1973-09-12\", \"Open\": 583.559998, \"High\": 583.559998, \"Low\": 583.559998, \"Close\": 583.559998, \"Adj Close\": 583.559998, \"Volume\": 0.0, \"CloseUSD\": 583.559998}'\n",
      "b'{\"Index\": \"N100\", \"Date\": \"2013-04-10\", \"Open\": 703.590027, \"High\": 716.210022, \"Low\": 703.460022, \"Close\": 715.200012, \"Adj Close\": 715.200012, \"Volume\": 276136600.0, \"CloseUSD\": 872.54401464}'\n",
      "b'{\"Index\": \"IXIC\", \"Date\": \"1986-06-19\", \"Open\": 395.899994, \"High\": 397.0, \"Low\": 395.200012, \"Close\": 396.399994, \"Adj Close\": 396.399994, \"Volume\": 111300000.0, \"CloseUSD\": 396.399994}'\n",
      "b'{\"Index\": \"NYA\", \"Date\": \"1997-01-08\", \"Open\": 4179.27002, \"High\": 4179.27002, \"Low\": 4179.27002, \"Close\": 4179.27002, \"Adj Close\": 4179.27002, \"Volume\": 0.0, \"CloseUSD\": 4179.27002}'\n",
      "b'{\"Index\": \"GDAXI\", \"Date\": \"2001-04-10\", \"Open\": 5787.240234, \"High\": 5917.779785, \"Low\": 5787.240234, \"Close\": 5913.839844, \"Adj Close\": 5913.839844, \"Volume\": 61920000.0, \"CloseUSD\": 7214.88460968}'\n",
      "b'{\"Index\": \"N225\", \"Date\": \"2001-11-05\", \"Open\": 10427.34961, \"High\": 10447.54004, \"Low\": 10345.28027, \"Close\": 10447.54004, \"Adj Close\": 10447.54004, \"Volume\": 0.0, \"CloseUSD\": 104.4754004}'\n",
      "b'{\"Index\": \"HSI\", \"Date\": \"1987-06-11\", \"Open\": 3087.5, \"High\": 3087.5, \"Low\": 3087.5, \"Close\": 3087.5, \"Adj Close\": 3087.5, \"Volume\": 0.0, \"CloseUSD\": 401.375}'\n",
      "b'{\"Index\": \"HSI\", \"Date\": \"2010-10-07\", \"Open\": 22996.73047, \"High\": 22996.73047, \"Low\": 22824.05078, \"Close\": 22884.32031, \"Adj Close\": 22884.32031, \"Volume\": 2175196000.0, \"CloseUSD\": 2974.9616403}'\n",
      "b'{\"Index\": \"GSPTSE\", \"Date\": \"1992-12-10\", \"Open\": 3279.0, \"High\": 3279.0, \"Low\": 3260.100098, \"Close\": 3270.199951, \"Adj Close\": 3270.199951, \"Volume\": 44750000.0, \"CloseUSD\": 2714.26595933}'\n",
      "b'{\"Index\": \"IXIC\", \"Date\": \"1997-12-01\", \"Open\": 1608.560059, \"High\": 1630.719971, \"Low\": 1608.560059, \"Close\": 1630.719971, \"Adj Close\": 1630.719971, \"Volume\": 610620000.0, \"CloseUSD\": 1630.719971}'\n",
      "b'{\"Index\": \"SSMI\", \"Date\": \"1994-06-09\", \"Open\": 2800.600098, \"High\": 2807.899902, \"Low\": 2774.399902, \"Close\": 2777.199951, \"Adj Close\": 2777.199951, \"Volume\": 0.0, \"CloseUSD\": 3082.6919456100004}'\n",
      "b'{\"Index\": \"GSPTSE\", \"Date\": \"1983-05-10\", \"Open\": 2433.899902, \"High\": 2463.300049, \"Low\": 2433.899902, \"Close\": 2457.699951, \"Adj Close\": 2451.458496, \"Volume\": 0.0, \"CloseUSD\": 2039.89095933}'\n",
      "b'{\"Index\": \"IXIC\", \"Date\": \"1991-03-27\", \"Open\": 481.380005, \"High\": 482.950012, \"Low\": 479.359985, \"Close\": 482.369995, \"Adj Close\": 482.369995, \"Volume\": 194380000.0, \"CloseUSD\": 482.369995}'\n",
      "b'{\"Index\": \"NYA\", \"Date\": \"2003-05-20\", \"Open\": 5196.5, \"High\": 5227.089844, \"Low\": 5170.810059, \"Close\": 5204.899902, \"Adj Close\": 5204.899902, \"Volume\": 1519400000.0, \"CloseUSD\": 5204.899902}'\n",
      "b'{\"Index\": \"SSMI\", \"Date\": \"2017-11-20\", \"Open\": 9253.580078, \"High\": 9317.280273, \"Low\": 9232.450195, \"Close\": 9299.610352, \"Adj Close\": 9299.610352, \"Volume\": 49489800.0, \"CloseUSD\": 10322.56749072}'\n",
      "b'{\"Index\": \"HSI\", \"Date\": \"2006-09-05\", \"Open\": 17523.81055, \"High\": 17523.81055, \"Low\": 17404.66992, \"Close\": 17438.80078, \"Adj Close\": 17438.80078, \"Volume\": 228720800.0, \"CloseUSD\": 2267.0441014000003}'\n",
      "b'{\"Index\": \"N225\", \"Date\": \"2013-04-15\", \"Open\": 13345.86035, \"High\": 13408.29004, \"Low\": 13257.86035, \"Close\": 13275.66016, \"Adj Close\": 13275.66016, \"Volume\": 321000000.0, \"CloseUSD\": 132.7566016}'\n",
      "b'{\"Index\": \"N100\", \"Date\": \"2010-10-06\", \"Open\": 677.780029, \"High\": 681.340027, \"Low\": 676.880005, \"Close\": 679.219971, \"Adj Close\": 679.219971, \"Volume\": 292129000.0, \"CloseUSD\": 828.6483646199999}'\n"
     ]
    },
    {
     "name": "stdout",
     "output_type": "stream",
     "text": [
      "b'{\"Index\": \"GDAXI\", \"Date\": \"1993-06-01\", \"Open\": 1625.589966, \"High\": 1625.589966, \"Low\": 1625.589966, \"Close\": 1625.589966, \"Adj Close\": 1625.589966, \"Volume\": 0.0, \"CloseUSD\": 1983.21975852}'\n"
     ]
    },
    {
     "ename": "KeyboardInterrupt",
     "evalue": "",
     "output_type": "error",
     "traceback": [
      "\u001b[1;31m---------------------------------------------------------------------------\u001b[0m",
      "\u001b[1;31mKeyboardInterrupt\u001b[0m                         Traceback (most recent call last)",
      "Cell \u001b[1;32mIn[3], line 1\u001b[0m\n\u001b[1;32m----> 1\u001b[0m \u001b[38;5;28;01mfor\u001b[39;00m message \u001b[38;5;129;01min\u001b[39;00m consumer:\n\u001b[0;32m      2\u001b[0m     \u001b[38;5;28mprint\u001b[39m(message\u001b[38;5;241m.\u001b[39mvalue)\n",
      "File \u001b[1;32m~\\AppData\\Local\\Programs\\Python\\Python310\\lib\\site-packages\\kafka\\consumer\\group.py:1193\u001b[0m, in \u001b[0;36mKafkaConsumer.__next__\u001b[1;34m(self)\u001b[0m\n\u001b[0;32m   1191\u001b[0m     \u001b[38;5;28;01mreturn\u001b[39;00m \u001b[38;5;28mself\u001b[39m\u001b[38;5;241m.\u001b[39mnext_v1()\n\u001b[0;32m   1192\u001b[0m \u001b[38;5;28;01melse\u001b[39;00m:\n\u001b[1;32m-> 1193\u001b[0m     \u001b[38;5;28;01mreturn\u001b[39;00m \u001b[38;5;28;43mself\u001b[39;49m\u001b[38;5;241;43m.\u001b[39;49m\u001b[43mnext_v2\u001b[49m\u001b[43m(\u001b[49m\u001b[43m)\u001b[49m\n",
      "File \u001b[1;32m~\\AppData\\Local\\Programs\\Python\\Python310\\lib\\site-packages\\kafka\\consumer\\group.py:1201\u001b[0m, in \u001b[0;36mKafkaConsumer.next_v2\u001b[1;34m(self)\u001b[0m\n\u001b[0;32m   1199\u001b[0m     \u001b[38;5;28mself\u001b[39m\u001b[38;5;241m.\u001b[39m_iterator \u001b[38;5;241m=\u001b[39m \u001b[38;5;28mself\u001b[39m\u001b[38;5;241m.\u001b[39m_message_generator_v2()\n\u001b[0;32m   1200\u001b[0m \u001b[38;5;28;01mtry\u001b[39;00m:\n\u001b[1;32m-> 1201\u001b[0m     \u001b[38;5;28;01mreturn\u001b[39;00m \u001b[38;5;28;43mnext\u001b[39;49m\u001b[43m(\u001b[49m\u001b[38;5;28;43mself\u001b[39;49m\u001b[38;5;241;43m.\u001b[39;49m\u001b[43m_iterator\u001b[49m\u001b[43m)\u001b[49m\n\u001b[0;32m   1202\u001b[0m \u001b[38;5;28;01mexcept\u001b[39;00m \u001b[38;5;167;01mStopIteration\u001b[39;00m:\n\u001b[0;32m   1203\u001b[0m     \u001b[38;5;28mself\u001b[39m\u001b[38;5;241m.\u001b[39m_iterator \u001b[38;5;241m=\u001b[39m \u001b[38;5;28;01mNone\u001b[39;00m\n",
      "File \u001b[1;32m~\\AppData\\Local\\Programs\\Python\\Python310\\lib\\site-packages\\kafka\\consumer\\group.py:1116\u001b[0m, in \u001b[0;36mKafkaConsumer._message_generator_v2\u001b[1;34m(self)\u001b[0m\n\u001b[0;32m   1114\u001b[0m \u001b[38;5;28;01mdef\u001b[39;00m \u001b[38;5;21m_message_generator_v2\u001b[39m(\u001b[38;5;28mself\u001b[39m):\n\u001b[0;32m   1115\u001b[0m     timeout_ms \u001b[38;5;241m=\u001b[39m \u001b[38;5;241m1000\u001b[39m \u001b[38;5;241m*\u001b[39m (\u001b[38;5;28mself\u001b[39m\u001b[38;5;241m.\u001b[39m_consumer_timeout \u001b[38;5;241m-\u001b[39m time\u001b[38;5;241m.\u001b[39mtime())\n\u001b[1;32m-> 1116\u001b[0m     record_map \u001b[38;5;241m=\u001b[39m \u001b[38;5;28;43mself\u001b[39;49m\u001b[38;5;241;43m.\u001b[39;49m\u001b[43mpoll\u001b[49m\u001b[43m(\u001b[49m\u001b[43mtimeout_ms\u001b[49m\u001b[38;5;241;43m=\u001b[39;49m\u001b[43mtimeout_ms\u001b[49m\u001b[43m,\u001b[49m\u001b[43m \u001b[49m\u001b[43mupdate_offsets\u001b[49m\u001b[38;5;241;43m=\u001b[39;49m\u001b[38;5;28;43;01mFalse\u001b[39;49;00m\u001b[43m)\u001b[49m\n\u001b[0;32m   1117\u001b[0m     \u001b[38;5;28;01mfor\u001b[39;00m tp, records \u001b[38;5;129;01min\u001b[39;00m six\u001b[38;5;241m.\u001b[39miteritems(record_map):\n\u001b[0;32m   1118\u001b[0m         \u001b[38;5;66;03m# Generators are stateful, and it is possible that the tp / records\u001b[39;00m\n\u001b[0;32m   1119\u001b[0m         \u001b[38;5;66;03m# here may become stale during iteration -- i.e., we seek to a\u001b[39;00m\n\u001b[0;32m   1120\u001b[0m         \u001b[38;5;66;03m# different offset, pause consumption, or lose assignment.\u001b[39;00m\n\u001b[0;32m   1121\u001b[0m         \u001b[38;5;28;01mfor\u001b[39;00m record \u001b[38;5;129;01min\u001b[39;00m records:\n\u001b[0;32m   1122\u001b[0m             \u001b[38;5;66;03m# is_fetchable(tp) should handle assignment changes and offset\u001b[39;00m\n\u001b[0;32m   1123\u001b[0m             \u001b[38;5;66;03m# resets; for all other changes (e.g., seeks) we'll rely on the\u001b[39;00m\n\u001b[0;32m   1124\u001b[0m             \u001b[38;5;66;03m# outer function destroying the existing iterator/generator\u001b[39;00m\n\u001b[0;32m   1125\u001b[0m             \u001b[38;5;66;03m# via self._iterator = None\u001b[39;00m\n",
      "File \u001b[1;32m~\\AppData\\Local\\Programs\\Python\\Python310\\lib\\site-packages\\kafka\\consumer\\group.py:655\u001b[0m, in \u001b[0;36mKafkaConsumer.poll\u001b[1;34m(self, timeout_ms, max_records, update_offsets)\u001b[0m\n\u001b[0;32m    653\u001b[0m remaining \u001b[38;5;241m=\u001b[39m timeout_ms\n\u001b[0;32m    654\u001b[0m \u001b[38;5;28;01mwhile\u001b[39;00m \u001b[38;5;28;01mTrue\u001b[39;00m:\n\u001b[1;32m--> 655\u001b[0m     records \u001b[38;5;241m=\u001b[39m \u001b[38;5;28;43mself\u001b[39;49m\u001b[38;5;241;43m.\u001b[39;49m\u001b[43m_poll_once\u001b[49m\u001b[43m(\u001b[49m\u001b[43mremaining\u001b[49m\u001b[43m,\u001b[49m\u001b[43m \u001b[49m\u001b[43mmax_records\u001b[49m\u001b[43m,\u001b[49m\u001b[43m \u001b[49m\u001b[43mupdate_offsets\u001b[49m\u001b[38;5;241;43m=\u001b[39;49m\u001b[43mupdate_offsets\u001b[49m\u001b[43m)\u001b[49m\n\u001b[0;32m    656\u001b[0m     \u001b[38;5;28;01mif\u001b[39;00m records:\n\u001b[0;32m    657\u001b[0m         \u001b[38;5;28;01mreturn\u001b[39;00m records\n",
      "File \u001b[1;32m~\\AppData\\Local\\Programs\\Python\\Python310\\lib\\site-packages\\kafka\\consumer\\group.py:702\u001b[0m, in \u001b[0;36mKafkaConsumer._poll_once\u001b[1;34m(self, timeout_ms, max_records, update_offsets)\u001b[0m\n\u001b[0;32m    699\u001b[0m     \u001b[38;5;28mself\u001b[39m\u001b[38;5;241m.\u001b[39m_client\u001b[38;5;241m.\u001b[39mpoll(timeout_ms\u001b[38;5;241m=\u001b[39m\u001b[38;5;241m0\u001b[39m)\n\u001b[0;32m    701\u001b[0m timeout_ms \u001b[38;5;241m=\u001b[39m \u001b[38;5;28mmin\u001b[39m(timeout_ms, \u001b[38;5;28mself\u001b[39m\u001b[38;5;241m.\u001b[39m_coordinator\u001b[38;5;241m.\u001b[39mtime_to_next_poll() \u001b[38;5;241m*\u001b[39m \u001b[38;5;241m1000\u001b[39m)\n\u001b[1;32m--> 702\u001b[0m \u001b[38;5;28;43mself\u001b[39;49m\u001b[38;5;241;43m.\u001b[39;49m\u001b[43m_client\u001b[49m\u001b[38;5;241;43m.\u001b[39;49m\u001b[43mpoll\u001b[49m\u001b[43m(\u001b[49m\u001b[43mtimeout_ms\u001b[49m\u001b[38;5;241;43m=\u001b[39;49m\u001b[43mtimeout_ms\u001b[49m\u001b[43m)\u001b[49m\n\u001b[0;32m    703\u001b[0m \u001b[38;5;66;03m# after the long poll, we should check whether the group needs to rebalance\u001b[39;00m\n\u001b[0;32m    704\u001b[0m \u001b[38;5;66;03m# prior to returning data so that the group can stabilize faster\u001b[39;00m\n\u001b[0;32m    705\u001b[0m \u001b[38;5;28;01mif\u001b[39;00m \u001b[38;5;28mself\u001b[39m\u001b[38;5;241m.\u001b[39m_coordinator\u001b[38;5;241m.\u001b[39mneed_rejoin():\n",
      "File \u001b[1;32m~\\AppData\\Local\\Programs\\Python\\Python310\\lib\\site-packages\\kafka\\client_async.py:602\u001b[0m, in \u001b[0;36mKafkaClient.poll\u001b[1;34m(self, timeout_ms, future)\u001b[0m\n\u001b[0;32m    599\u001b[0m             timeout \u001b[38;5;241m=\u001b[39m \u001b[38;5;28mmin\u001b[39m(timeout, \u001b[38;5;28mself\u001b[39m\u001b[38;5;241m.\u001b[39mconfig[\u001b[38;5;124m'\u001b[39m\u001b[38;5;124mretry_backoff_ms\u001b[39m\u001b[38;5;124m'\u001b[39m])\n\u001b[0;32m    600\u001b[0m         timeout \u001b[38;5;241m=\u001b[39m \u001b[38;5;28mmax\u001b[39m(\u001b[38;5;241m0\u001b[39m, timeout)  \u001b[38;5;66;03m# avoid negative timeouts\u001b[39;00m\n\u001b[1;32m--> 602\u001b[0m     \u001b[38;5;28;43mself\u001b[39;49m\u001b[38;5;241;43m.\u001b[39;49m\u001b[43m_poll\u001b[49m\u001b[43m(\u001b[49m\u001b[43mtimeout\u001b[49m\u001b[43m \u001b[49m\u001b[38;5;241;43m/\u001b[39;49m\u001b[43m \u001b[49m\u001b[38;5;241;43m1000\u001b[39;49m\u001b[43m)\u001b[49m\n\u001b[0;32m    604\u001b[0m \u001b[38;5;66;03m# called without the lock to avoid deadlock potential\u001b[39;00m\n\u001b[0;32m    605\u001b[0m \u001b[38;5;66;03m# if handlers need to acquire locks\u001b[39;00m\n\u001b[0;32m    606\u001b[0m responses\u001b[38;5;241m.\u001b[39mextend(\u001b[38;5;28mself\u001b[39m\u001b[38;5;241m.\u001b[39m_fire_pending_completed_requests())\n",
      "File \u001b[1;32m~\\AppData\\Local\\Programs\\Python\\Python310\\lib\\site-packages\\kafka\\client_async.py:634\u001b[0m, in \u001b[0;36mKafkaClient._poll\u001b[1;34m(self, timeout)\u001b[0m\n\u001b[0;32m    631\u001b[0m \u001b[38;5;28mself\u001b[39m\u001b[38;5;241m.\u001b[39m_register_send_sockets()\n\u001b[0;32m    633\u001b[0m start_select \u001b[38;5;241m=\u001b[39m time\u001b[38;5;241m.\u001b[39mtime()\n\u001b[1;32m--> 634\u001b[0m ready \u001b[38;5;241m=\u001b[39m \u001b[38;5;28;43mself\u001b[39;49m\u001b[38;5;241;43m.\u001b[39;49m\u001b[43m_selector\u001b[49m\u001b[38;5;241;43m.\u001b[39;49m\u001b[43mselect\u001b[49m\u001b[43m(\u001b[49m\u001b[43mtimeout\u001b[49m\u001b[43m)\u001b[49m\n\u001b[0;32m    635\u001b[0m end_select \u001b[38;5;241m=\u001b[39m time\u001b[38;5;241m.\u001b[39mtime()\n\u001b[0;32m    636\u001b[0m \u001b[38;5;28;01mif\u001b[39;00m \u001b[38;5;28mself\u001b[39m\u001b[38;5;241m.\u001b[39m_sensors:\n",
      "File \u001b[1;32m~\\AppData\\Local\\Programs\\Python\\Python310\\lib\\selectors.py:324\u001b[0m, in \u001b[0;36mSelectSelector.select\u001b[1;34m(self, timeout)\u001b[0m\n\u001b[0;32m    322\u001b[0m ready \u001b[38;5;241m=\u001b[39m []\n\u001b[0;32m    323\u001b[0m \u001b[38;5;28;01mtry\u001b[39;00m:\n\u001b[1;32m--> 324\u001b[0m     r, w, _ \u001b[38;5;241m=\u001b[39m \u001b[38;5;28;43mself\u001b[39;49m\u001b[38;5;241;43m.\u001b[39;49m\u001b[43m_select\u001b[49m\u001b[43m(\u001b[49m\u001b[38;5;28;43mself\u001b[39;49m\u001b[38;5;241;43m.\u001b[39;49m\u001b[43m_readers\u001b[49m\u001b[43m,\u001b[49m\u001b[43m \u001b[49m\u001b[38;5;28;43mself\u001b[39;49m\u001b[38;5;241;43m.\u001b[39;49m\u001b[43m_writers\u001b[49m\u001b[43m,\u001b[49m\u001b[43m \u001b[49m\u001b[43m[\u001b[49m\u001b[43m]\u001b[49m\u001b[43m,\u001b[49m\u001b[43m \u001b[49m\u001b[43mtimeout\u001b[49m\u001b[43m)\u001b[49m\n\u001b[0;32m    325\u001b[0m \u001b[38;5;28;01mexcept\u001b[39;00m \u001b[38;5;167;01mInterruptedError\u001b[39;00m:\n\u001b[0;32m    326\u001b[0m     \u001b[38;5;28;01mreturn\u001b[39;00m ready\n",
      "File \u001b[1;32m~\\AppData\\Local\\Programs\\Python\\Python310\\lib\\selectors.py:315\u001b[0m, in \u001b[0;36mSelectSelector._select\u001b[1;34m(self, r, w, _, timeout)\u001b[0m\n\u001b[0;32m    314\u001b[0m \u001b[38;5;28;01mdef\u001b[39;00m \u001b[38;5;21m_select\u001b[39m(\u001b[38;5;28mself\u001b[39m, r, w, _, timeout\u001b[38;5;241m=\u001b[39m\u001b[38;5;28;01mNone\u001b[39;00m):\n\u001b[1;32m--> 315\u001b[0m     r, w, x \u001b[38;5;241m=\u001b[39m \u001b[43mselect\u001b[49m\u001b[38;5;241;43m.\u001b[39;49m\u001b[43mselect\u001b[49m\u001b[43m(\u001b[49m\u001b[43mr\u001b[49m\u001b[43m,\u001b[49m\u001b[43m \u001b[49m\u001b[43mw\u001b[49m\u001b[43m,\u001b[49m\u001b[43m \u001b[49m\u001b[43mw\u001b[49m\u001b[43m,\u001b[49m\u001b[43m \u001b[49m\u001b[43mtimeout\u001b[49m\u001b[43m)\u001b[49m\n\u001b[0;32m    316\u001b[0m     \u001b[38;5;28;01mreturn\u001b[39;00m r, w \u001b[38;5;241m+\u001b[39m x, []\n",
      "\u001b[1;31mKeyboardInterrupt\u001b[0m: "
     ]
    }
   ],
   "source": [
    "for message in consumer:\n",
    "    print(message.value)"
   ]
  },
  {
   "cell_type": "code",
   "execution_count": null,
   "id": "d35ff255",
   "metadata": {},
   "outputs": [],
   "source": []
  }
 ],
 "metadata": {
  "kernelspec": {
   "display_name": "Python 3 (ipykernel)",
   "language": "python",
   "name": "python3"
  },
  "language_info": {
   "codemirror_mode": {
    "name": "ipython",
    "version": 3
   },
   "file_extension": ".py",
   "mimetype": "text/x-python",
   "name": "python",
   "nbconvert_exporter": "python",
   "pygments_lexer": "ipython3",
   "version": "3.10.9"
  }
 },
 "nbformat": 4,
 "nbformat_minor": 5
}
